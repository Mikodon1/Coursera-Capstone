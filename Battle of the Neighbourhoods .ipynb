{
    "cells": [
        {
            "cell_type": "markdown",
            "metadata": {
                "collapsed": true
            },
            "source": "## Introduction/Business Problem\nIn the last number of years, the topic of homelessness has become a political and news topic in Ireland.  The charity Focus Ireland says that there were 10,448 people homeless across Ireland at the end of 2019 and that the number of homeless families has increased by over 300% since November 2014. In the early 2000's Ireland experienced a property bubble followed by a crash in the global economic downturn.  Since then the economy has recovered however rate of new house builds have not kept up with the demand resulting in fewer available rental properties.  One of the many factors cited as influencing the availability of rental properties (and as a result homelessness) is the rise in the number of properties being used for short term rental on Airbnb.  In mid 2019 the Irish government enacted the Residential and Tenancies Act 2019 place restrictions to short-term letting in Rent Pressure Zones. Registrations are limited properties rented out for 90 days or less per year  In this study I will analyse Airbnb rentals and homelessness in two Irish cities:\n(1) Dublin which is the capital and largest city in Ireland and the city in which I was born.\n(2) Cork which is the second largest city in Ireland and the city in which I currently live and work.\nThe analysis will be used to determine if any insights linking Airbnb to levels of homelessness can be found and to understand if any properties in Rent Pressure Zones for more than 90 days per year."
        },
        {
            "cell_type": "markdown",
            "metadata": {},
            "source": "## Data\nBased on the problem of interest, the information of interest relates to homelessness and Airbnb rentals in the cities of Dublin and Cork.  The Foursquare location data and clustering analysis will be used to visualize relevant Airbnb listings in Rent Pressure Zones in Dublin and Cork.\nThe following data sources will be used to extract the required information and to generate insights:\n(1) - Airbnb listings for Dublin and Cork which can be downloaded from the Inside Airbnb website linked below:\nhttp://insideairbnb.com/get-the-data.html\nThis data includes useful information such as neighbourhood where the property is located (neighbourhood), latitude and longitude, type of property (room_type) as well as number of days per year that the property is available ()\n(2) - Official homelessness figures from the Irish Government, Department of Housing, Planning and Local Government available from the website linked below:\nhttps://www.housing.gov.ie/housing/homelessness/other/homelessness-data\n(3) Scraping of data on Rent Pressure Zones from the Residential Tenancies Board website linked below:\nhttps://onestopshop.rtb.ie/rent-pressure-zones/"
        }
    ],
    "metadata": {
        "kernelspec": {
            "display_name": "Python 3.6",
            "language": "python",
            "name": "python3"
        },
        "language_info": {
            "codemirror_mode": {
                "name": "ipython",
                "version": 3
            },
            "file_extension": ".py",
            "mimetype": "text/x-python",
            "name": "python",
            "nbconvert_exporter": "python",
            "pygments_lexer": "ipython3",
            "version": "3.6.8"
        }
    },
    "nbformat": 4,
    "nbformat_minor": 1
}